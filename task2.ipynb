{
 "cells": [
  {
   "cell_type": "code",
   "execution_count": 10,
   "metadata": {
    "scrolled": false
   },
   "outputs": [],
   "source": [
    "import pandas as pd\n",
    "import numpy as np\n",
    "from collections import OrderedDict\n",
    "\n",
    "#считываем файл данных от Брендах\n",
    "file = \"2.2Beer market sales data.xlsx\"\n",
    "Beer_date = pd.read_excel(file, index_col=None) \n"
   ]
  },
  {
   "cell_type": "code",
   "execution_count": 11,
   "metadata": {},
   "outputs": [
    {
     "name": "stdout",
     "output_type": "stream",
     "text": [
      "(array([  0,   8,  16,  24,  32,  40,  48,  56,  64,  72,  80,  88,  96,\n",
      "       104, 112, 120, 128, 136, 144, 152, 160, 168, 176, 184, 192, 200,\n",
      "       208, 216, 224, 232], dtype=int32),)\n"
     ]
    }
   ],
   "source": [
    "Brand_index = np.where(Beer_date['Brand'] != 0)\n",
    "print(Brand_index)"
   ]
  },
  {
   "cell_type": "code",
   "execution_count": 12,
   "metadata": {},
   "outputs": [
    {
     "name": "stdout",
     "output_type": "stream",
     "text": [
      "['Brand 15', 'Brand 8', 'Brand 3']\n"
     ]
    }
   ],
   "source": [
    "\n",
    "# находим ТОР 3 брендов\n",
    "Brand_dict={}\n",
    "for i in Brand_index[0]:\n",
    "    d = [j for j in range(i, i + 8)]\n",
    "    Brand_dict.update({Beer_date.at[i, 'Brand']:[{'volume': Beer_date.iloc[i, 3:], 'value': Beer_date.iloc[i+1, 3:], 'numeric-selling': Beer_date.iloc[i+2, 3:], 'weighted-selling':Beer_date.iloc[i+3, 3:], 'shop-selling': Beer_date.iloc[i+4, 3:], 'WAMP': Beer_date.iloc[i+5, 3:], 'price': Beer_date.iloc[i+6, 3:], 'daily-oftake':Beer_date.iloc[i+7, 3:] }]})\n",
    "Brand_names=Brand_dict.keys()\n",
    "\n",
    "# определяем среднее арифметическое параметра Daily oftake 0.5 L для каждого бренда\n",
    "raiting = {}\n",
    "for i in Brand_names:\n",
    "    val = Brand_dict[i][0]['daily-oftake'].sum()/len(Brand_dict[i][0]['daily-oftake'])\n",
    "    raiting.update({i:val})\n",
    "convert_raiting = {}\n",
    "\n",
    "# уопрядочиваем бренда по параметру Daily oftake 0.5 L\n",
    "for key, val in raiting.items():\n",
    "    convert_raiting.update({val:key})\n",
    "\n",
    "convert_raiting = OrderedDict(sorted(convert_raiting.items(), key=lambda t: t[0]))\n",
    "\n",
    "raiting_top = {}\n",
    "for key, val in convert_raiting.items():\n",
    "    raiting_top.update({val:key})\n",
    "\n",
    "TOP_3 = []\n",
    "TOP_3 = list(raiting_top.keys())[-3:]\n",
    "print(TOP_3)"
   ]
  },
  {
   "cell_type": "code",
   "execution_count": 13,
   "metadata": {},
   "outputs": [
    {
     "name": "stdout",
     "output_type": "stream",
     "text": [
      "     BRAND       DATE                         CHANNEL  DURATION  \\\n",
      "0  Brand 1 2014-06-28      РОССИЯ 1 (СЕТЕВОЕ ВЕЩАНИЕ)        10   \n",
      "1  Brand 1 2014-06-28      РОССИЯ 1 (СЕТЕВОЕ ВЕЩАНИЕ)        10   \n",
      "2  Brand 1 2014-06-30  ПЕРВЫЙ КАНАЛ (СЕТЕВОЕ ВЕЩАНИЕ)        10   \n",
      "3  Brand 1 2014-06-30  ПЕРВЫЙ КАНАЛ (СЕТЕВОЕ ВЕЩАНИЕ)        10   \n",
      "4  Brand 1 2014-06-30      РОССИЯ 1 (СЕТЕВОЕ ВЕЩАНИЕ)        10   \n",
      "\n",
      "                      WEEK     MONTH           START TIME  Day Type  \\\n",
      "0  23/06/2014 - 29/06/2014  Jun 2014             19:50:55  Выходной   \n",
      "1  23/06/2014 - 29/06/2014  Jun 2014             20:58:59  Выходной   \n",
      "2  30/06/2014 - 06/07/2014  Jun 2014             23:56:36   Рабочий   \n",
      "3  30/06/2014 - 06/07/2014  Jun 2014  1900-01-01 00:57:35   Рабочий   \n",
      "4  30/06/2014 - 06/07/2014  Jun 2014             19:51:35   Рабочий   \n",
      "\n",
      "      Week day National channel  ... Clip position Clips count  \\\n",
      "0      Суббота         РОССИЯ 1  ...             3           5   \n",
      "1      Суббота         РОССИЯ 1  ...             3          11   \n",
      "2  Понедельник     ПЕРВЫЙ КАНАЛ  ...             3           6   \n",
      "3  Понедельник     ПЕРВЫЙ КАНАЛ  ...             5           9   \n",
      "4  Понедельник         РОССИЯ 1  ...             4           5   \n",
      "\n",
      "  Clip position type                         Break  Break position  \\\n",
      "0            Средний  Внутренний рекламный блок  1               2   \n",
      "1            Средний  Внутренний рекламный блок  3              12   \n",
      "2            Средний  Внутренний рекламный блок  1               2   \n",
      "3            Средний  Внутренний рекламный блок  3              10   \n",
      "4      Предпоследний  Внутренний рекламный блок  1               3   \n",
      "\n",
      "  Breaks count Break type  Break distribution  Break content  TVR M 25-45 BC  \n",
      "0           17   Internal             Сетевой   Коммерческий            1.29  \n",
      "1           17   Internal             Сетевой   Коммерческий            3.62  \n",
      "2           14   Internal             Сетевой   Коммерческий            1.17  \n",
      "3           14   Internal             Сетевой   Коммерческий            2.79  \n",
      "4           18   Internal             Сетевой   Коммерческий            1.87  \n",
      "\n",
      "[5 rows x 28 columns]\n"
     ]
    }
   ],
   "source": [
    "# считываем файл данных о просмотрах рекламы\n",
    "file = \"2.3 TV Data.xlsx\"\n",
    "TV_Data = pd.read_excel(file, index_col = None)\n",
    "print(TV_Data.head())\n",
    "\n"
   ]
  },
  {
   "cell_type": "code",
   "execution_count": 14,
   "metadata": {},
   "outputs": [
    {
     "name": "stdout",
     "output_type": "stream",
     "text": [
      "{'Brand 15': Empty DataFrame\n",
      "Columns: [BRAND, DATE, CHANNEL, DURATION, WEEK, MONTH, START TIME, Day Type, Week day, National channel, Programme, Programme category, Programme genre, Programme group, Clip ID, Clip type, Clip distribution, Clip first issue date, Clip position, Clips count, Clip position type, Break, Break position, Breaks count, Break type, Break distribution, Break content, TVR M 25-45 BC]\n",
      "Index: []\n",
      "\n",
      "[0 rows x 28 columns], 'Brand 8': Empty DataFrame\n",
      "Columns: [BRAND, DATE, CHANNEL, DURATION, WEEK, MONTH, START TIME, Day Type, Week day, National channel, Programme, Programme category, Programme genre, Programme group, Clip ID, Clip type, Clip distribution, Clip first issue date, Clip position, Clips count, Clip position type, Break, Break position, Breaks count, Break type, Break distribution, Break content, TVR M 25-45 BC]\n",
      "Index: []\n",
      "\n",
      "[0 rows x 28 columns], 'Brand 3':          BRAND       DATE                         CHANNEL  DURATION  \\\n",
      "5368   Brand 3 2014-09-03  ПЕРВЫЙ КАНАЛ (СЕТЕВОЕ ВЕЩАНИЕ)        30   \n",
      "5369   Brand 3 2014-09-03  ПЕРВЫЙ КАНАЛ (СЕТЕВОЕ ВЕЩАНИЕ)        30   \n",
      "5370   Brand 3 2014-09-08      РОССИЯ 2 (СЕТЕВОЕ ВЕЩАНИЕ)        30   \n",
      "5371   Brand 3 2014-09-08      РОССИЯ 2 (СЕТЕВОЕ ВЕЩАНИЕ)        30   \n",
      "5372   Brand 3 2014-09-08      РОССИЯ 2 (СЕТЕВОЕ ВЕЩАНИЕ)        30   \n",
      "...        ...        ...                             ...       ...   \n",
      "60728  Brand 3 2016-08-31           2X2 (СЕТЕВОЕ ВЕЩАНИЕ)        15   \n",
      "60729  Brand 3 2016-09-06  ПЕРВЫЙ КАНАЛ (СЕТЕВОЕ ВЕЩАНИЕ)        30   \n",
      "60730  Brand 3 2016-09-06  ПЕРВЫЙ КАНАЛ (СЕТЕВОЕ ВЕЩАНИЕ)        30   \n",
      "60731  Brand 3 2016-09-06  ПЕРВЫЙ КАНАЛ (СЕТЕВОЕ ВЕЩАНИЕ)        30   \n",
      "60732  Brand 3 2016-09-06  ПЕРВЫЙ КАНАЛ (СЕТЕВОЕ ВЕЩАНИЕ)        30   \n",
      "\n",
      "                          WEEK     MONTH START TIME Day Type     Week day  \\\n",
      "5368   01/09/2014 - 07/09/2014  Sep 2014   19:48:23  Рабочий        Среда   \n",
      "5369   01/09/2014 - 07/09/2014  Sep 2014   19:55:18  Рабочий        Среда   \n",
      "5370   08/09/2014 - 14/09/2014  Sep 2014   19:55:03  Рабочий  Понедельник   \n",
      "5371   08/09/2014 - 14/09/2014  Sep 2014   20:49:09  Рабочий  Понедельник   \n",
      "5372   08/09/2014 - 14/09/2014  Sep 2014   20:57:35  Рабочий  Понедельник   \n",
      "...                        ...       ...        ...      ...          ...   \n",
      "60728  29/08/2016 - 04/09/2016  Aug 2016   20:58:25  Рабочий        Среда   \n",
      "60729  05/09/2016 - 11/09/2016  Sep 2016   18:57:23  Рабочий      Вторник   \n",
      "60730  05/09/2016 - 11/09/2016  Sep 2016   19:52:09  Рабочий      Вторник   \n",
      "60731  05/09/2016 - 11/09/2016  Sep 2016   20:03:31  Рабочий      Вторник   \n",
      "60732  05/09/2016 - 11/09/2016  Sep 2016   20:56:05  Рабочий      Вторник   \n",
      "\n",
      "      National channel  ... Clip position Clips count Clip position type  \\\n",
      "5368      ПЕРВЫЙ КАНАЛ  ...             8          21            Средний   \n",
      "5369      ПЕРВЫЙ КАНАЛ  ...             7          21            Средний   \n",
      "5370          РОССИЯ 2  ...             3          12            Средний   \n",
      "5371          РОССИЯ 2  ...             6          14            Средний   \n",
      "5372          РОССИЯ 2  ...             3          14            Средний   \n",
      "...                ...  ...           ...         ...                ...   \n",
      "60728              2X2  ...             4           9            Средний   \n",
      "60729     ПЕРВЫЙ КАНАЛ  ...             8          12            Средний   \n",
      "60730     ПЕРВЫЙ КАНАЛ  ...             3          11            Средний   \n",
      "60731     ПЕРВЫЙ КАНАЛ  ...            14          14          Последний   \n",
      "60732     ПЕРВЫЙ КАНАЛ  ...             1          11             Первый   \n",
      "\n",
      "                                     Break  Break position Breaks count  \\\n",
      "5368   Внутренний блок спонсорской рекламы               3            6   \n",
      "5369   Внутренний блок спонсорской рекламы               5            6   \n",
      "5370          Внутренний рекламный блок  1               2           18   \n",
      "5371          Внутренний рекламный блок  2               7           18   \n",
      "5372          Внутренний рекламный блок  3              11           18   \n",
      "...                                    ...             ...          ...   \n",
      "60728                       РЕКЛАМНЫЙ БЛОК               0            0   \n",
      "60729  Внутренний блок спонсорской рекламы               1            8   \n",
      "60730  Внутренний блок спонсорской рекламы               3            8   \n",
      "60731  Внутренний блок спонсорской рекламы               5            8   \n",
      "60732  Внутренний блок спонсорской рекламы               8            8   \n",
      "\n",
      "      Break type  Break distribution  Break content  TVR M 25-45 BC  \n",
      "5368    Internal             Сетевой    Спонсорский            1.81  \n",
      "5369    Internal             Сетевой    Спонсорский            1.76  \n",
      "5370    Internal             Сетевой   Коммерческий            1.30  \n",
      "5371    Internal             Сетевой   Коммерческий            2.66  \n",
      "5372    Internal             Сетевой   Коммерческий            2.42  \n",
      "...          ...                 ...            ...             ...  \n",
      "60728   External             Сетевой   Коммерческий            0.69  \n",
      "60729   Internal             Сетевой    Спонсорский            1.39  \n",
      "60730   Internal             Сетевой    Спонсорский            2.99  \n",
      "60731   Internal             Сетевой    Спонсорский            2.82  \n",
      "60732   Internal             Сетевой    Спонсорский            2.58  \n",
      "\n",
      "[6779 rows x 28 columns]}\n"
     ]
    }
   ],
   "source": [
    "# получаем данных о просмотрах рекламы только для ТОП 3 брендов\n",
    "tv_brand = {}\n",
    "for i in TOP_3:\n",
    "    tv_brand.update({i: TV_Data[TV_Data['BRAND'] == i]})\n",
    "print(tv_brand)\n",
    "\n",
    "# далее анализируем Brend 3 "
   ]
  },
  {
   "cell_type": "code",
   "execution_count": 15,
   "metadata": {},
   "outputs": [
    {
     "name": "stdout",
     "output_type": "stream",
     "text": [
      "      National channel  TVR M 25-45 BC\n",
      "5368      ПЕРВЫЙ КАНАЛ            1.81\n",
      "5369      ПЕРВЫЙ КАНАЛ            1.76\n",
      "5370          РОССИЯ 2            1.30\n",
      "5371          РОССИЯ 2            2.66\n",
      "5372          РОССИЯ 2            2.42\n",
      "...                ...             ...\n",
      "60728              2X2            0.69\n",
      "60729     ПЕРВЫЙ КАНАЛ            1.39\n",
      "60730     ПЕРВЫЙ КАНАЛ            2.99\n",
      "60731     ПЕРВЫЙ КАНАЛ            2.82\n",
      "60732     ПЕРВЫЙ КАНАЛ            2.58\n",
      "\n",
      "[6779 rows x 2 columns]\n"
     ]
    }
   ],
   "source": [
    "# получаем массив данных каналов и доли просмотров\n",
    "channel_date = tv_brand['Brand 3'].loc[:,['National channel', 'TVR M 25-45 BC']]\n",
    "print(channel_date)"
   ]
  },
  {
   "cell_type": "code",
   "execution_count": 22,
   "metadata": {},
   "outputs": [
    {
     "name": "stdout",
     "output_type": "stream",
     "text": [
      "['ПЕРВЫЙ КАНАЛ' 'РОССИЯ 2' 'РОССИЯ 1' 'НТВ' 'МАТЧ ТВ' 'ТНТ' 'ЧЕ' 'СТС'\n",
      " 'ПЯТНИЦА' 'РЕН ТВ' 'ЗВЕЗДА' '2X2']\n"
     ]
    }
   ],
   "source": [
    "# список каналов на которых показывали товар марки Brend 3\n",
    "channels = channel_date['National channel'].unique()\n",
    "print(channels)"
   ]
  },
  {
   "cell_type": "code",
   "execution_count": 23,
   "metadata": {},
   "outputs": [
    {
     "name": "stdout",
     "output_type": "stream",
     "text": [
      "                  TVR M 25-45 BC\n",
      "National channel                \n",
      "2X2                       100.11\n",
      "ЗВЕЗДА                     62.51\n",
      "МАТЧ ТВ                   946.03\n",
      "НТВ                        34.02\n",
      "ПЕРВЫЙ КАНАЛ             1279.30\n",
      "ПЯТНИЦА                   120.46\n",
      "РЕН ТВ                    483.60\n",
      "РОССИЯ 1                  585.75\n",
      "РОССИЯ 2                  189.63\n",
      "СТС                       338.34\n",
      "ТНТ                       474.75\n",
      "ЧЕ                        150.22\n"
     ]
    }
   ],
   "source": [
    "# суммируем общую долю показов для каждого канала\n",
    "sum_tvr_by_channel = channel_date.groupby(['National channel']).sum()\n",
    "print(sum_tvr_by_channel)\n"
   ]
  },
  {
   "cell_type": "code",
   "execution_count": 24,
   "metadata": {},
   "outputs": [
    {
     "data": {
      "image/png": "[encoded data removed]",
      "text/plain": [
       "<Figure size 432x288 with 1 Axes>"
      ]
     },
     "metadata": {
      "needs_background": "light"
     },
     "output_type": "display_data"
    }
   ],
   "source": [
    "# на холсте отображаем гистограмму доли показов по каждому каналу\n",
    "import matplotlib.pyplot as plt\n",
    "\n",
    "width = 0.5\n",
    "fig, ax = plt.subplots()\n",
    "rects1 = ax.bar(channels, sum_tvr_by_channel['TVR M 25-45 BC'], width, label='Channel')\n",
    "plt.xticks(rotation=90)\n",
    "ax.set_ylabel('TVR M 25-45 BC')\n",
    "ax.legend()\n",
    "\n",
    "fig.tight_layout()\n",
    "plt.show()\n"
   ]
  },
  {
   "cell_type": "code",
   "execution_count": 25,
   "metadata": {
    "scrolled": true
   },
   "outputs": [
    {
     "name": "stdout",
     "output_type": "stream",
     "text": [
      "            DATE  TVR M 25-45 BC\n",
      "5368  2014-09-03            1.81\n",
      "5369  2014-09-03            1.76\n",
      "5370  2014-09-08            1.30\n",
      "5371  2014-09-08            2.66\n",
      "5372  2014-09-08            2.42\n",
      "...          ...             ...\n",
      "60728 2016-08-31            0.69\n",
      "60729 2016-09-06            1.39\n",
      "60730 2016-09-06            2.99\n",
      "60731 2016-09-06            2.82\n",
      "60732 2016-09-06            2.58\n",
      "\n",
      "[6779 rows x 2 columns]\n"
     ]
    }
   ],
   "source": [
    "#Получаем данные о доле просмотров видеороликов оп бренду Brand 3\n",
    "brand_view_date = tv_brand['Brand 3'].loc[:,['DATE', 'TVR M 25-45 BC']]\n",
    "print(brand_view_date)"
   ]
  },
  {
   "cell_type": "code",
   "execution_count": 27,
   "metadata": {},
   "outputs": [
    {
     "name": "stdout",
     "output_type": "stream",
     "text": [
      "            TVR M 25-45 BC\n",
      "DATE                      \n",
      "2014-12-31             221\n",
      "2015-12-31             426\n",
      "2016-12-31            6132\n"
     ]
    }
   ],
   "source": [
    "# вычисляем суммарное число просмотров рекламы в год\n",
    "total_count_show_of_years = brand_view_date.set_index(\"DATE\").groupby(pd.Grouper(freq='Y')).count()\n",
    "print(total_count_show_of_years)"
   ]
  },
  {
   "cell_type": "code",
   "execution_count": 28,
   "metadata": {},
   "outputs": [
    {
     "name": "stdout",
     "output_type": "stream",
     "text": [
      "[2014 2015 2016]\n"
     ]
    }
   ],
   "source": [
    "years =  brand_view_date['DATE'].dt.year.unique()\n",
    "print(years)"
   ]
  },
  {
   "cell_type": "code",
   "execution_count": 29,
   "metadata": {
    "scrolled": true
   },
   "outputs": [
    {
     "name": "stdout",
     "output_type": "stream",
     "text": [
      "            TVR M 25-45 BC\n",
      "DATE                      \n",
      "2014-12-31           73.36\n",
      "2015-12-31          266.52\n",
      "2016-12-31         4424.84\n"
     ]
    },
    {
     "data": {
      "image/png": "[encoded data removed]",
      "text/plain": [
       "<Figure size 432x288 with 1 Axes>"
      ]
     },
     "metadata": {
      "needs_background": "light"
     },
     "output_type": "display_data"
    }
   ],
   "source": [
    "# строим гистограмму, которая отображает число просмотров видео по годам\n",
    "total_sum_watch_of_years = brand_view_date.set_index(\"DATE\").groupby(pd.Grouper(freq='Y')).sum()\n",
    "print(total_sum_watch_of_years)\n",
    "\n",
    "width = 0.5\n",
    "fig, ax = plt.subplots()\n",
    "rects1 = ax.bar([str(i) for i in years], total_sum_watch_of_years['TVR M 25-45 BC'], width, label='Years')\n",
    "plt.xticks(rotation=90)\n",
    "ax.set_ylabel('TVR M 25-45 BC')\n",
    "ax.legend()\n",
    "\n",
    "fig.tight_layout()\n",
    "plt.show()"
   ]
  },
  {
   "cell_type": "code",
   "execution_count": 136,
   "metadata": {},
   "outputs": [
    {
     "name": "stdout",
     "output_type": "stream",
     "text": [
      "            DATE  DURATION  TVR M 25-45 BC\n",
      "5368  2014-09-03        30            1.81\n",
      "5369  2014-09-03        30            1.76\n",
      "5370  2014-09-08        30            1.30\n",
      "5371  2014-09-08        30            2.66\n",
      "5372  2014-09-08        30            2.42\n",
      "...          ...       ...             ...\n",
      "60728 2016-08-31        15            0.69\n",
      "60729 2016-09-06        30            1.39\n",
      "60730 2016-09-06        30            2.99\n",
      "60731 2016-09-06        30            2.82\n",
      "60732 2016-09-06        30            2.58\n",
      "\n",
      "[6779 rows x 3 columns]\n"
     ]
    }
   ],
   "source": [
    "brand_view = tv_brand['Brand 3'].loc[:,[ 'DATE', 'DURATION','TVR M 25-45 BC']]\n",
    "print(brand_view)\n"
   ]
  },
  {
   "cell_type": "code",
   "execution_count": 138,
   "metadata": {
    "scrolled": true
   },
   "outputs": [
    {
     "name": "stdout",
     "output_type": "stream",
     "text": [
      "               DURATION  TVR M 25-45 BC\n",
      "mounth_years                           \n",
      "Sep 2014      12.000000        0.390000\n",
      "Oct 2014      11.739130        0.360000\n",
      "Nov 2014      12.127660        0.351064\n",
      "Dec 2014      10.000000        0.191556\n",
      "Jan 2015      10.000000        0.210152\n",
      "Feb 2015      10.000000        0.183922\n",
      "Mar 2015      11.684211        0.356842\n",
      "Apr 2015      19.180328        0.824262\n",
      "May 2015      30.000000        0.997333\n",
      "Jun 2015      30.000000        1.886667\n",
      "Jul 2015      30.000000        1.750000\n",
      "Aug 2015      10.000000        0.306667\n",
      "Sep 2015      12.857143        0.811429\n",
      "Oct 2015      27.187500        1.138750\n",
      "Nov 2015      41.250000        1.804167\n",
      "Dec 2015      35.000000        0.365000\n",
      "Jan 2016      10.645161        0.361613\n",
      "Feb 2016      15.000000        0.507308\n",
      "Mar 2016      16.200000        0.987400\n",
      "Apr 2016      15.000000        1.313125\n",
      "May 2016      23.851351        0.714986\n",
      "Jun 2016      15.821794        0.986761\n",
      "Jul 2016      12.297297        4.639730\n",
      "Aug 2016      21.303502        0.410679\n",
      "Sep 2016      30.000000        2.445000\n"
     ]
    }
   ],
   "source": [
    "# получаем средние значения за месяцы для всего периода \n",
    "\n",
    "brand_view_mounth = brand_view.set_index(\"DATE\").groupby(pd.Grouper(freq='M')).sum()\n",
    "count = brand_view.set_index(\"DATE\").groupby(pd.Grouper(freq='M')).count()\n",
    "brand_view_arg = brand_view_mounth/count\n",
    "\n",
    "# преобразуем индексную колонку для склейки с другими таблицами\n",
    "date = brand_view_arg.index\n",
    "brand_view_arg['mounth_years'] = date.strftime(\"%b %Y\")\n",
    "brand_view_arg = brand_view_arg.set_index('mounth_years')\n",
    "\n",
    "\n",
    "print(brand_view_arg)"
   ]
  },
  {
   "cell_type": "code",
   "execution_count": 79,
   "metadata": {},
   "outputs": [
    {
     "name": "stdout",
     "output_type": "stream",
     "text": [
      "mounth_years\n",
      "Aug 2014    78.7141\n",
      "Sep 2014    78.9193\n",
      "Oct 2014    80.4305\n",
      "Nov 2014    81.3292\n",
      "Dec 2014    79.5041\n",
      "Jan 2015    82.0592\n",
      "Feb 2015    81.1735\n",
      "Mar 2015    82.7271\n",
      "Apr 2015    85.3002\n",
      "May 2015     85.641\n",
      "Jun 2015    88.9878\n",
      "Jul 2015     92.365\n",
      "Aug 2015    90.9343\n",
      "Sep 2015    89.8114\n",
      "Oct 2015    90.5611\n",
      "Nov 2015    90.6418\n",
      "Dec 2015    88.2586\n",
      "Jan 2016    89.8874\n",
      "Feb 2016    90.2381\n",
      "Mar 2016    89.3913\n",
      "Apr 2016    89.8736\n",
      "May 2016    91.0946\n",
      "Jun 2016     91.411\n",
      "Jul 2016    91.7092\n",
      "Aug 2016    90.3779\n",
      "Name: 6, dtype: object\n"
     ]
    }
   ],
   "source": [
    "price = Brand_dict['Brand 3'][0]['price']\n",
    "price = price.rename_axis('mounth_years')\n",
    "price.rename('price')\n",
    "\n",
    "print(price)"
   ]
  },
  {
   "cell_type": "code",
   "execution_count": 89,
   "metadata": {},
   "outputs": [
    {
     "name": "stdout",
     "output_type": "stream",
     "text": [
      "mounth_years\n",
      "Aug 2014    72.6101\n",
      "Sep 2014    59.8276\n",
      "Oct 2014    55.8795\n",
      "Nov 2014    51.2626\n",
      "Dec 2014    55.2617\n",
      "Jan 2015    51.0652\n",
      "Feb 2015    49.4928\n",
      "Mar 2015    53.8622\n",
      "Apr 2015    49.7458\n",
      "May 2015    56.4939\n",
      "Jun 2015    53.0664\n",
      "Jul 2015    47.5086\n",
      "Aug 2015    47.9814\n",
      "Sep 2015     44.804\n",
      "Oct 2015    41.4576\n",
      "Nov 2015    38.5128\n",
      "Dec 2015     42.649\n",
      "Jan 2016    37.5594\n",
      "Feb 2016    34.6691\n",
      "Mar 2016    39.6907\n",
      "Apr 2016    39.4123\n",
      "May 2016    43.6517\n",
      "Jun 2016    44.4825\n",
      "Jul 2016    47.8969\n",
      "Aug 2016    48.8099\n",
      "Name: 7, dtype: object\n"
     ]
    }
   ],
   "source": [
    "offtake = Brand_dict['Brand 3'][0]['daily-oftake']\n",
    "offtake = offtake.rename_axis('mounth_years')\n",
    "offtake.rename('offtake')\n",
    "\n",
    "print(offtake)"
   ]
  },
  {
   "cell_type": "code",
   "execution_count": 90,
   "metadata": {},
   "outputs": [
    {
     "name": "stdout",
     "output_type": "stream",
     "text": [
      "               DURATION  TVR M 25-45 BC    price  offtake\n",
      "mounth_years                                             \n",
      "Sep 2014      12.000000        0.390000  78.9193  59.8276\n",
      "Oct 2014      11.739130        0.360000  80.4305  55.8795\n",
      "Nov 2014      12.127660        0.351064  81.3292  51.2626\n",
      "Dec 2014      10.000000        0.191556  79.5041  55.2617\n",
      "Jan 2015      10.000000        0.210152  82.0592  51.0652\n",
      "Feb 2015      10.000000        0.183922  81.1735  49.4928\n",
      "Mar 2015      11.684211        0.356842  82.7271  53.8622\n",
      "Apr 2015      19.180328        0.824262  85.3002  49.7458\n",
      "May 2015      30.000000        0.997333   85.641  56.4939\n",
      "Jun 2015      30.000000        1.886667  88.9878  53.0664\n",
      "Jul 2015      30.000000        1.750000   92.365  47.5086\n",
      "Aug 2015      10.000000        0.306667  90.9343  47.9814\n",
      "Sep 2015      12.857143        0.811429  89.8114   44.804\n",
      "Oct 2015      27.187500        1.138750  90.5611  41.4576\n",
      "Nov 2015      41.250000        1.804167  90.6418  38.5128\n",
      "Dec 2015      35.000000        0.365000  88.2586   42.649\n",
      "Jan 2016      10.645161        0.361613  89.8874  37.5594\n",
      "Feb 2016      15.000000        0.507308  90.2381  34.6691\n",
      "Mar 2016      16.200000        0.987400  89.3913  39.6907\n",
      "Apr 2016      15.000000        1.313125  89.8736  39.4123\n",
      "May 2016      23.851351        0.714986  91.0946  43.6517\n",
      "Jun 2016      15.821794        0.986761   91.411  44.4825\n",
      "Jul 2016      12.297297        4.639730  91.7092  47.8969\n",
      "Aug 2016      21.303502        0.410679  90.3779  48.8099\n"
     ]
    }
   ],
   "source": [
    "# получаем итогвую таблицу для линейной регрессии\n",
    "common_table = brand_view_arg.merge(price, on='mounth_years').rename(columns={6:'price'}).merge(offtake, on='mounth_years').rename(columns={7:'offtake'})\n",
    "print(common_table)"
   ]
  },
  {
   "cell_type": "code",
   "execution_count": 139,
   "metadata": {},
   "outputs": [
    {
     "data": {
      "text/plain": [
       "LinearRegression()"
      ]
     },
     "execution_count": 139,
     "metadata": {},
     "output_type": "execute_result"
    }
   ],
   "source": [
    "# строим регрессионную модель\n",
    "from sklearn import linear_model\n",
    "clf = linear_model.LinearRegression()\n",
    "clf.fit( common_table[['DURATION','TVR M 25-45 BC','price']],common_table['offtake'])"
   ]
  },
  {
   "cell_type": "code",
   "execution_count": 140,
   "metadata": {},
   "outputs": [
    {
     "data": {
      "text/plain": [
       "array([ 0.06660595,  1.97106935, -1.33022141])"
      ]
     },
     "execution_count": 140,
     "metadata": {},
     "output_type": "execute_result"
    }
   ],
   "source": [
    "# получаем параметры модели\n",
    "clf.coef_  "
   ]
  },
  {
   "cell_type": "code",
   "execution_count": 141,
   "metadata": {},
   "outputs": [
    {
     "data": {
      "text/plain": [
       "160.25492661466856"
      ]
     },
     "execution_count": 141,
     "metadata": {},
     "output_type": "execute_result"
    }
   ],
   "source": [
    "clf.intercept_"
   ]
  },
  {
   "cell_type": "code",
   "execution_count": null,
   "metadata": {},
   "outputs": [],
   "source": []
  }
 ],
 "metadata": {
  "kernelspec": {
   "display_name": "Python 3",
   "language": "python",
   "name": "python3"
  },
  "language_info": {
   "codemirror_mode": {
    "name": "ipython",
    "version": 3
   },
   "file_extension": ".py",
   "mimetype": "text/x-python",
   "name": "python",
   "nbconvert_exporter": "python",
   "pygments_lexer": "ipython3",
   "version": "3.7.4"
  }
 },
 "nbformat": 4,
 "nbformat_minor": 4
}
